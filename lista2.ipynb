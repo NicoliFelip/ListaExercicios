{
  "nbformat": 4,
  "nbformat_minor": 0,
  "metadata": {
    "colab": {
      "provenance": []
    },
    "kernelspec": {
      "name": "python3",
      "display_name": "Python 3"
    },
    "language_info": {
      "name": "python"
    }
  },
  "cells": [
    {
      "cell_type": "code",
      "execution_count": null,
      "metadata": {
        "colab": {
          "base_uri": "https://localhost:8080/"
        },
        "id": "wL-6ulE05Sxy",
        "outputId": "968579cb-2b07-4db0-9052-781b2e7bca35"
      },
      "outputs": [
        {
          "name": "stdout",
          "output_type": "stream",
          "text": [
            "insira um numero iteiro maior que 2:  8\n"
          ]
        }
      ],
      "source": [
        "# prompt: 1. Solicite ao usuário um número inteiro positivo e exiba apenas os números pares de 2 até\n",
        "# esse número com while\n",
        "inteiro = int(input(\"Insira um número inteiro maior que 2: \"))\n",
        "\n",
        "while inteiro <= 2:\n",
        "    inteiro = int(input(\"Por favor, insira um número inteiro maior que 2: \"))\n",
        "\n",
        "num = 2\n",
        "\n",
        "while num <= inteiro:\n",
        "    print(num)\n",
        "    num += 2\n"
      ]
    },
    {
      "cell_type": "code",
      "source": [
        "# Solicite ao usuário que insira números. O programa deve continuar até que um número\n",
        "#negativo seja inserido. No final, exiba o maior número informado.\n",
        "\n",
        "num = int(input(\"Insira um número: \"))\n",
        "maior = num\n",
        "\n",
        "while num >= 0:\n",
        "    num = int(input(\"Insira um número: \"))\n",
        "    if num > maior:\n",
        "        maior = num\n",
        "print(f\"O maior número é {maior}\")"
      ],
      "metadata": {
        "colab": {
          "base_uri": "https://localhost:8080/"
        },
        "id": "HjI_1EiADCZk",
        "outputId": "e537442e-f0cb-45a5-deb3-47cce22c26a8"
      },
      "execution_count": null,
      "outputs": [
        {
          "output_type": "stream",
          "name": "stdout",
          "text": [
            "Insira um número: 10\n",
            "Insira um número: 100\n",
            "Insira um número: -10\n",
            "O maior número é 100\n"
          ]
        }
      ]
    },
    {
      "cell_type": "code",
      "source": [
        "# prompt: Solicite ao usuário uma nota entre 0 e 10. Caso o valor seja inválido, peça novamente até\n",
        "# que o usuário informe um valor válido.\n",
        "\n",
        "while True:\n",
        "  try:\n",
        "    nota = int(input(\"Digite uma nota entre 0 e 10: \"))\n",
        "    if 0 <= nota <= 10:\n",
        "      print(\"Nota válida:\", nota)\n",
        "      break\n",
        "    else:\n",
        "      print(\"Nota inválida. Digite um valor entre 0 e 10.\")\n",
        "  except ValueError:\n",
        "    print(\"Entrada inválida. Digite um número inteiro.\")\n"
      ],
      "metadata": {
        "id": "dwjPc50qDLcf"
      },
      "execution_count": null,
      "outputs": []
    },
    {
      "cell_type": "code",
      "source": [
        "# prompt: Implemente um sistema onde o usuário insere o código e a quantidade dos produtos\n",
        "# desejados. O programa deve calcular o valor total e permitir que o usuário finalize o\n",
        "# pedido digitando 0. simplificad usando while\n",
        "\n",
        "produtos = {}\n",
        "total = 0\n",
        "\n",
        "while True:\n",
        "  codigo = input(\"Insira o código do produto (ou 0 para finalizar): \")\n",
        "  if codigo == '0':\n",
        "    break\n",
        "\n",
        "  if codigo in produtos:\n",
        "    quantidade = int(input(f\"Quantidade de {produtos[codigo][0]} (em estoque: {produtos[codigo][2]}): \"))\n",
        "    if quantidade <= produtos[codigo][2]:\n",
        "        total += quantidade * produtos[codigo][1]\n",
        "        produtos[codigo] = (produtos[codigo][0], produtos[codigo][1], produtos[codigo][2] - quantidade)\n",
        "        print(f\"Produto adicionado. Total atualizado: R${total:.2f}\")\n",
        "    else:\n",
        "        print(\"Quantidade solicitada indisponível em estoque.\")\n",
        "  else:\n",
        "    nome = input(\"Insira o nome do produto: \")\n",
        "    preco = float(input(\"Insira o preço do produto: \"))\n",
        "    quantidade_estoque = int(input(\"Insira a quantidade em estoque: \"))\n",
        "    produtos[codigo] = (nome, preco, quantidade_estoque)\n",
        "    quantidade = int(input(f\"Quantidade de {nome}: \"))\n",
        "    if quantidade <= quantidade_estoque:\n",
        "        total += quantidade * preco\n",
        "        produtos[codigo] = (nome, preco, quantidade_estoque - quantidade)\n",
        "        print(f\"Produto adicionado. Total atualizado: R${total:.2f}\")\n",
        "    else:\n",
        "        print(\"Quantidade solicitada indisponível em estoque.\")\n",
        "\n",
        "print(f\"Valor total do pedido: R${total:.2f}\")\n",
        "print(\"Pedido finalizado.\")\n"
      ],
      "metadata": {
        "id": "YQy3HBLHOMh8"
      },
      "execution_count": null,
      "outputs": []
    }
  ]
}